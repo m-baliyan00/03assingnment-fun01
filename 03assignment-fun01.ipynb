{
 "cells": [
  {
   "cell_type": "raw",
   "id": "e4b33fb8-0632-41d1-811d-6421f882b3a5",
   "metadata": {},
   "source": [
    "Q1. Which keyword is used to create a function? Create a function to return a list of odd numbers in the\n",
    "range of 1 to 25."
   ]
  },
  {
   "cell_type": "code",
   "execution_count": 2,
   "id": "5bf1db50-9024-4bf5-a4f2-10f147e2848d",
   "metadata": {},
   "outputs": [],
   "source": [
    "def function(): # def keyword is used to create function\n",
    "    pass"
   ]
  },
  {
   "cell_type": "code",
   "execution_count": 31,
   "id": "f961959c-5dbb-41d0-a296-cf4484550adf",
   "metadata": {},
   "outputs": [],
   "source": [
    "def odd_number(l):\n",
    "    l = range(l)\n",
    "    l1 = []\n",
    "    for i in l:\n",
    "        if i % 2 != 0:\n",
    "            l1.append(i)\n",
    "    print(l1)"
   ]
  },
  {
   "cell_type": "code",
   "execution_count": 32,
   "id": "7c2a678e-cc84-4d4b-afa8-b11d85370016",
   "metadata": {},
   "outputs": [
    {
     "name": "stdout",
     "output_type": "stream",
     "text": [
      "[1, 3, 5, 7, 9, 11, 13, 15, 17, 19, 21, 23]\n"
     ]
    }
   ],
   "source": [
    "odd_number(25)"
   ]
  },
  {
   "cell_type": "raw",
   "id": "fdf7e86f-93e2-408b-975c-ae5592cb0ee4",
   "metadata": {},
   "source": [
    "Q2. Why *args and **kwargs is used in some functions? Create a function each for *args and **kwargs\n",
    "to demonstrate their use."
   ]
  },
  {
   "cell_type": "raw",
   "id": "c7fece18-a636-4d16-97ec-9a6eeeb234a7",
   "metadata": {},
   "source": [
    "*args is use to pass variable number to non keyword argument function,\n",
    "**kwarg ia use to pass the variable length of keyword arguments to the function."
   ]
  },
  {
   "cell_type": "code",
   "execution_count": 29,
   "id": "1ae1ba00-46b8-400e-bef2-fb71f8021248",
   "metadata": {},
   "outputs": [],
   "source": [
    "def add_sum(*arg):\n",
    "    sum = 0\n",
    "    for i in arg:\n",
    "        sum = sum + i\n",
    "    print(\"sum: \", sum )\n",
    "       "
   ]
  },
  {
   "cell_type": "code",
   "execution_count": 55,
   "id": "e2bee6ea-e6ee-4873-962f-4b487a0080dc",
   "metadata": {},
   "outputs": [],
   "source": [
    "def combo(**data):\n",
    "    for key, value  in data.items():\n",
    "        print(\"{} is {}\". format( key, value))\n",
    "        "
   ]
  },
  {
   "cell_type": "code",
   "execution_count": 30,
   "id": "3c35e35a-2320-4455-b890-9aa9e590e9b6",
   "metadata": {},
   "outputs": [
    {
     "name": "stdout",
     "output_type": "stream",
     "text": [
      "sum:  200\n",
      "sum:  351\n"
     ]
    }
   ],
   "source": [
    "add_sum(20, 40, 60, 80)\n",
    "add_sum(90,80,70,56,55)"
   ]
  },
  {
   "cell_type": "code",
   "execution_count": 71,
   "id": "a76100c9-ee03-4991-9c39-3bb59f856a39",
   "metadata": {},
   "outputs": [
    {
     "name": "stdout",
     "output_type": "stream",
     "text": [
      "name is  syam \n",
      "Rollno is  887\n",
      "phone is  251001\n"
     ]
    }
   ],
   "source": [
    "combo(name = \" syam \", Rollno = \" 887\", phone= \" 251001\" )"
   ]
  },
  {
   "cell_type": "raw",
   "id": "2e4b489a-8678-44ec-aac4-ecbd18137646",
   "metadata": {},
   "source": [
    "Q3. What is an iterator in python? Name the method used to initialise the iterator object and the method\n",
    "used for iteration. Use these methods to print the first five elements of the given list [2, 4, 6, 8, 10, 12, 14,\n",
    "16, 18, 20]."
   ]
  },
  {
   "cell_type": "raw",
   "id": "240eba58-4eae-40bf-a75f-f7dc4178f0ff",
   "metadata": {},
   "source": [
    "iterator is ia function in python known as \"iter\", that basically used to print string in iteration or divied in  letters manually by type {next()}"
   ]
  },
  {
   "cell_type": "raw",
   "id": "3e817677-e9eb-49bd-a6b6-97dce84b4818",
   "metadata": {},
   "source": [
    "first we need to do iter \"iter()\" our data and then print by print(next()) manually. step-by-step"
   ]
  },
  {
   "cell_type": "code",
   "execution_count": 19,
   "id": "cc391ae4-1689-43b0-881f-5946b45faecf",
   "metadata": {},
   "outputs": [
    {
     "name": "stdout",
     "output_type": "stream",
     "text": [
      "2\n",
      "4\n",
      "6\n",
      "8\n",
      "10\n"
     ]
    }
   ],
   "source": [
    "l = [2, 4, 6, 8, 10, 12, 14, 16, 18, 20]\n",
    "iterator = iter(l)\n",
    "print(next(iterator))\n",
    "print(next(iterator))\n",
    "print(next(iterator))\n",
    "print(next(iterator))\n",
    "print(next(iterator))"
   ]
  },
  {
   "cell_type": "raw",
   "id": "551a0322-6f98-458a-809f-0bbb66039854",
   "metadata": {},
   "source": [
    "Q4. What is a generator function in python? Why yield keyword is used? Give an example of a generator\n",
    "function."
   ]
  },
  {
   "cell_type": "raw",
   "id": "7a3acb47-028b-4238-adf0-77115ecb0742",
   "metadata": {},
   "source": [
    "generator is a function in python that return as iterators using by yield keyword "
   ]
  },
  {
   "cell_type": "code",
   "execution_count": 41,
   "id": "0af31798-9dd6-4bb4-ac1e-395d31c6e5e7",
   "metadata": {},
   "outputs": [
    {
     "name": "stdout",
     "output_type": "stream",
     "text": [
      "0\n",
      "1\n",
      "2\n",
      "3\n",
      "4\n"
     ]
    }
   ],
   "source": [
    "def gen(n):\n",
    "    for i in range(n):\n",
    "        yield i\n",
    "        \n",
    "ob1 = gen(20)\n",
    "\n",
    "print(next(ob1))\n",
    "print(next(ob1))\n",
    "print(next(ob1))\n",
    "print(next(ob1))\n",
    "print(next(ob1))"
   ]
  },
  {
   "cell_type": "raw",
   "id": "1dd208e8-9873-4430-a3c9-7076de4361e2",
   "metadata": {},
   "source": [
    "Q5. Create a generator function for prime numbers less than 1000. Use the next() method to print the\n",
    "first 20 prime numbers."
   ]
  },
  {
   "cell_type": "code",
   "execution_count": 16,
   "id": "6f139449-c35e-41e6-8b91-80f296a972d5",
   "metadata": {},
   "outputs": [
    {
     "name": "stdin",
     "output_type": "stream",
     "text": [
      "Input your number 2\n"
     ]
    },
    {
     "name": "stdout",
     "output_type": "stream",
     "text": [
      "First 2 Prime numbers:\n",
      "2\n",
      "3\n"
     ]
    }
   ],
   "source": [
    "def prime(n):\n",
    "    if n <= 1:\n",
    "        return False\n",
    "    for i in range(2, int(n**0.5) + 1):\n",
    "        if n % i == 0:\n",
    "            return False\n",
    "    return True\n",
    "\n",
    "def prime_gen():\n",
    "    n = 2\n",
    "    while True:\n",
    "        if prime(n):\n",
    "            yield n\n",
    "        n += 1\n",
    "primes = prime_gen()\n",
    "n = int(input(\"Input your number\"))\n",
    "\n",
    "print(\"First\",n,\"Prime numbers:\")\n",
    "for _ in range(n):\n",
    "    print(next(primes))\n",
    "\n",
    "#select your number\n"
   ]
  },
  {
   "cell_type": "raw",
   "id": "6f34ffa9-4f03-4dd5-8e17-62160d0a1bc1",
   "metadata": {},
   "source": [
    "Q6. Write a python program to print the first 10 Fibonacci numbers using a while loop."
   ]
  },
  {
   "cell_type": "code",
   "execution_count": null,
   "id": "82fe8928-8762-4800-8b47-f0966d54dc36",
   "metadata": {},
   "outputs": [],
   "source": [
    "n = int(input())\n",
    "a = 0\n",
    "b = 1\n",
    "sum = a + b\n",
    "count = 1\n",
    "print(\"your number\", end=\" \")\n",
    "while(count <= n):\n",
    "    count += 1\n",
    "    print(a, end=\" \")\n",
    "    a = b\n",
    "    b = sum\n",
    "    sum = a + b"
   ]
  },
  {
   "cell_type": "markdown",
   "id": "22e76f38-e7d8-4757-be83-dc4f34488db7",
   "metadata": {},
   "source": [
    "Q7. Write a List Comprehension to iterate through the given string: ‘pwskills’.\n",
    "Expected output: ['p', 'w', 's', 'k', 'i', 'l', 'l', 's']"
   ]
  },
  {
   "cell_type": "code",
   "execution_count": 1,
   "id": "adac782d-868d-4e7f-a7bc-02cf9dca3494",
   "metadata": {},
   "outputs": [
    {
     "name": "stdout",
     "output_type": "stream",
     "text": [
      "['p', 'w', 's', 'k', 'i', 'l', 'l', 's']\n"
     ]
    }
   ],
   "source": [
    "letter = [letter for letter in 'pwskills']\n",
    "print(letter)"
   ]
  },
  {
   "cell_type": "raw",
   "id": "4aeeb683-af3e-4a27-a0fd-6bca2d797e31",
   "metadata": {},
   "source": [
    "Q8. Write a python program to check whether a given number is Palindrome or not using a while loop."
   ]
  },
  {
   "cell_type": "code",
   "execution_count": 23,
   "id": "12fea6f3-4376-466e-a0e3-5bc1a65d2a70",
   "metadata": {},
   "outputs": [
    {
     "name": "stdin",
     "output_type": "stream",
     "text": [
      "input your string jahaj\n"
     ]
    },
    {
     "name": "stdout",
     "output_type": "stream",
     "text": [
      "yes, this is Palindrome\n"
     ]
    }
   ],
   "source": [
    "#this program for string\n",
    "string = input(\"input your string\")\n",
    "if(string == string[::-1]):\n",
    "    print(\"yes, this is Palindrome\")\n",
    "else:\n",
    "    print(\"no, this is not Palindrome\")"
   ]
  },
  {
   "cell_type": "code",
   "execution_count": 29,
   "id": "b66459e7-3a00-4306-a77a-ea3447fd03b6",
   "metadata": {},
   "outputs": [
    {
     "name": "stdin",
     "output_type": "stream",
     "text": [
      "enter your number 89\n"
     ]
    },
    {
     "name": "stdout",
     "output_type": "stream",
     "text": [
      "<class 'str'>\n",
      "no, this is not Palindrome\n"
     ]
    }
   ],
   "source": [
    "a = input(\"enter your number\")\n",
    "\n",
    "print(type(a))\n",
    "\n",
    "if a==a[::-1]: # because variable 'a' is string now! \n",
    "    print(\"yes, this is Palindrome\")\n",
    "else:\n",
    "    print(\"no, this is not Palindrome\")\n",
    "\n"
   ]
  },
  {
   "cell_type": "raw",
   "id": "22051347-8085-415a-82b5-1e4eb7cbbcea",
   "metadata": {},
   "source": [
    "Q9. Write a code to print odd numbers from 1 to 100 using list comprehension."
   ]
  },
  {
   "cell_type": "code",
   "execution_count": 6,
   "id": "a40eecd6-dcc2-4c60-a176-dd415d30063a",
   "metadata": {},
   "outputs": [
    {
     "name": "stdout",
     "output_type": "stream",
     "text": [
      "[1, 3, 5, 7, 9, 11, 13, 15, 17, 19, 21, 23, 25, 27, 29, 31, 33, 35, 37, 39, 41, 43, 45, 47, 49, 51, 53, 55, 57, 59, 61, 63, 65, 67, 69, 71, 73, 75, 77, 79, 81, 83, 85, 87, 89, 91, 93, 95, 97, 99]\n"
     ]
    }
   ],
   "source": [
    "ls = [i for i in range(100) if i%2!=0]\n",
    "print(ls)"
   ]
  }
 ],
 "metadata": {
  "kernelspec": {
   "display_name": "Python 3 (ipykernel)",
   "language": "python",
   "name": "python3"
  },
  "language_info": {
   "codemirror_mode": {
    "name": "ipython",
    "version": 3
   },
   "file_extension": ".py",
   "mimetype": "text/x-python",
   "name": "python",
   "nbconvert_exporter": "python",
   "pygments_lexer": "ipython3",
   "version": "3.10.8"
  }
 },
 "nbformat": 4,
 "nbformat_minor": 5
}
